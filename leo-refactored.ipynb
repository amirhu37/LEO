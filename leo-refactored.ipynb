{
 "cells": [
  {
   "cell_type": "markdown",
   "metadata": {},
   "source": [
    "# Import Dependencies"
   ]
  },
  {
   "cell_type": "code",
   "execution_count": 311,
   "metadata": {},
   "outputs": [],
   "source": [
    "import numpy as np  \n",
    "import pandas as pd\n",
    "import time\n",
    "\n",
    "import tensorflow as tf\n",
    "from tensorflow import keras\n",
    "from keras.optimizers import Adam\n",
    "\n",
    "from collections import deque\n",
    "\n",
    "from typing import  Literal\n",
    "import warnings\n",
    "warnings.filterwarnings(action = 'ignore' , category = DeprecationWarning)\n",
    "\n",
    "import matplotlib.pyplot as plt\n",
    "import seaborn as sns\n",
    "\n",
    "\n",
    "# Set Seaborn style\n",
    "sns.set_style(\"darkgrid\")"
   ]
  },
  {
   "cell_type": "code",
   "execution_count": 312,
   "metadata": {},
   "outputs": [],
   "source": [
    "from pymoo.algorithms.moo.nsga3 import NSGA3\n",
    "from pymoo.algorithms.moo.nsga2 import NSGA2\n",
    "\n",
    "from pymoo.algorithms.soo.nonconvex.pso import PSO\n",
    "\n",
    "from pymoo.optimize import minimize\n",
    "from pymoo.problems import get_problem\n",
    "from pymoo.util.ref_dirs import get_reference_directions\n",
    "\n",
    "\n",
    "from pymoo.core.problem import Problem\n",
    "from pymoo.operators.sampling.rnd import FloatRandomSampling\n",
    "\n",
    "from pymoo.operators.crossover.sbx import SBX\n",
    "from pymoo.operators.mutation.pm import PM"
   ]
  },
  {
   "cell_type": "markdown",
   "metadata": {},
   "source": [
    "# initialize The First population Random Sampler"
   ]
  },
  {
   "cell_type": "code",
   "execution_count": 313,
   "metadata": {},
   "outputs": [],
   "source": [
    "def initialize_population(population_size, num_variables, num_ojective):\n",
    "    problem = Problem(n_var = num_variables, n_obj = num_ojective ,  xl=0, xu=1)\n",
    "    sampling = FloatRandomSampling()\n",
    "    X = sampling(problem, population_size).get(\"X\")\n",
    "    return X\n"
   ]
  },
  {
   "cell_type": "markdown",
   "metadata": {},
   "source": [
    "# Function To use tradition EA Algorithm"
   ]
  },
  {
   "cell_type": "code",
   "execution_count": 314,
   "metadata": {},
   "outputs": [],
   "source": [
    "\n",
    "def tradition_EA(name : str, \n",
    "                 population : np.ndarray,\n",
    "                 cross_over_rate : float , \n",
    "                 mutation_over_rate : float ):\n",
    "    ref_point = 1 if name == 'ackley' else 3\n",
    "    # create the reference directions to be used for the optimization\n",
    "    # ref_dirs = get_reference_directions(\"das-dennis\", ref_point, n_partitions=population.shape[0])\n",
    "    # create the algorithm object\n",
    "    # replace with `NSGA3` if you want\n",
    "    algorithm = NSGA2(pop_size=None,\n",
    "                    # ref_dirs=ref_dirs,\n",
    "                    sampling = population,\n",
    "                     crossover=SBX( eta= 1 , prob= cross_over_rate ),\n",
    "                     mutation=PM(eta=1, prob= mutation_over_rate ),)\n",
    "    # execute the optimization\n",
    "    problem = get_problem(\"ackley\", n_var=population.shape[1], a=20, b=1/5, c=2 * np.pi)\\\n",
    "          if name == \"ackley\" else\\\n",
    "              get_problem(name, n_var = population.shape[1],\n",
    "                                n_obj = 3\n",
    "                                )\n",
    "\n",
    "    res = minimize(problem,\n",
    "                algorithm,\n",
    "                seed=1,\n",
    "                save_history = True,\n",
    "                save_archive =True,\n",
    "                termination= ( 'n_iter', 1))\n",
    "    return res.X"
   ]
  },
  {
   "cell_type": "markdown",
   "metadata": {},
   "source": [
    "# initialize First ANN weights in Random"
   ]
  },
  {
   "cell_type": "code",
   "execution_count": 315,
   "metadata": {},
   "outputs": [],
   "source": [
    "# initialize_ANN\n",
    "def initialize_ANN(n_var, lr = 0.1 , active_function = 'softmax'):\n",
    "# Create the modelweights_randomly\n",
    "    model = tf.keras.Sequential([\n",
    "        tf.keras.layers.Input(shape = n_var,\n",
    "                              name = \"Input\"),\n",
    "\n",
    "        tf.keras.layers.Dense(n_var * 3,\n",
    "                              activation = 'sigmoid',\n",
    "                              name = \"hidden\"),\n",
    "                              \n",
    "        tf.keras.layers.Dense(n_var ,\n",
    "                              activation = active_function,\n",
    "                              name = \"Output\")\n",
    "    ])\n",
    "\n",
    "    model.compile(optimizer=Adam(lr), loss='mse',  metrics=['accuracy'])\n",
    "    return model"
   ]
  },
  {
   "cell_type": "markdown",
   "metadata": {},
   "source": [
    "# Function to Train the model"
   ]
  },
  {
   "cell_type": "code",
   "execution_count": 316,
   "metadata": {},
   "outputs": [],
   "source": [
    "# train_ANN\n",
    "def train_ANN(model,\n",
    "               X_train : np.ndarray , \n",
    "               y_train : np.ndarray ) -> np.ndarray:\n",
    "    \n",
    "    hist = model.fit(X_train, y_train, epochs=1, verbose=False)\n",
    "    \n",
    "    return model, hist"
   ]
  },
  {
   "cell_type": "markdown",
   "metadata": {},
   "source": [
    "# LEARNING-AIDED EVOLUTION Function"
   ]
  },
  {
   "cell_type": "code",
   "execution_count": 317,
   "metadata": {},
   "outputs": [],
   "source": [
    "def leo(model \n",
    "        , X_train : np.ndarray) -> np.ndarray:\n",
    "    ypred = model.predict(X_train, verbose=False)\n",
    "    return  ypred"
   ]
  },
  {
   "cell_type": "markdown",
   "metadata": {},
   "source": [
    "# Benckmark Functions"
   ]
  },
  {
   "cell_type": "code",
   "execution_count": 318,
   "metadata": {},
   "outputs": [],
   "source": [
    "def fitness(name : str, \n",
    "            indivisual: np.ndarray , \n",
    "            n_variables: int,\n",
    "            n_objective: int) -> float| np.ndarray:\n",
    "    \n",
    "    pf = get_problem(name, n_var = n_variables,\n",
    "                                n_obj = n_objective\n",
    "                                ).evaluate(indivisual)\n",
    "    return pf\n",
    "        "
   ]
  },
  {
   "cell_type": "code",
   "execution_count": 319,
   "metadata": {},
   "outputs": [],
   "source": [
    "def selection(problem : str,\n",
    "                individual_1 : np.ndarray,\n",
    "                individual_2 : np.ndarray,\n",
    "                n_variables : int ,\n",
    "                n_objective : int) -> tuple[bool, np.ndarray]:\n",
    "    \n",
    "    fitness_individual_1 = fitness( problem, \n",
    "                                    individual_1,\n",
    "                                    n_variables ,\n",
    "                                    n_objective)\n",
    "    \n",
    "    fitness_individual_2 = fitness( problem, \n",
    "                                    individual_2,\n",
    "                                    n_variables, \n",
    "                                    n_objective)\n",
    "\n",
    "    if np.any( fitness_individual_1 <= fitness_individual_2):\n",
    "        \n",
    "        return  individual_1\n",
    "    else:\n",
    "        return  individual_2"
   ]
  },
  {
   "cell_type": "code",
   "execution_count": 367,
   "metadata": {},
   "outputs": [],
   "source": [
    "def main(\n",
    "    Problem : object,\n",
    "    archive_size : int,\n",
    "    lp : float,\n",
    "    n_generations : int,\n",
    "    first_gen_size : int,\n",
    "    n_obj : int,\n",
    "    n_var : int,\n",
    "    cross_over_rate : float,\n",
    "    mutation_rate : float,\n",
    "    ANN_learning_rate : float,\n",
    "    ANN_Activatvation_function : Literal['sigmoid' , 'softmax'],\n",
    ") -> tuple[np.ndarray, np.ndarray, np.ndarray]:\n",
    "    \n",
    "    time_to_run = list()\n",
    "\n",
    "    global Xg\n",
    "    Xg = initialize_population(first_gen_size, n_var, n_obj )  # Initialize population and evaluate fitness\n",
    "\n",
    "    global ANN \n",
    "    ANN = initialize_ANN(1 if Problem == 'ackley' else n_var , \n",
    "                         ANN_learning_rate , ANN_Activatvation_function )  # Initialize ANN weights randomly\n",
    "    \n",
    "\n",
    "    archive = deque(maxlen = archive_size)\n",
    "\n",
    "    all_losses  = list()\n",
    "    all_accuracy = list()\n",
    "\n",
    "\n",
    "    for gen in range(n_generations):\n",
    "        print(f\" gen: {gen+1}| \", end= \"\")\n",
    "\n",
    "        start_time = time.time()\n",
    "\n",
    "\n",
    "        r = np.random.uniform(0,1)\n",
    "        if gen > 1 and r < lp:\n",
    "            newX = leo(ANN, Xg)\n",
    "\n",
    "        else :\n",
    "            newX = tradition_EA(Problem, Xg, cross_over_rate, mutation_rate )\n",
    "\n",
    "        newX_fitness = fitness(Problem, newX, n_var , n_obj)\n",
    "\n",
    "        # SEP Collection\n",
    "        for i in range(len(newX_fitness)):\n",
    "            if np.any(fitness(Problem, Xg[i], n_var, n_obj) < fitness(Problem, newX[i], n_var, n_obj)):\n",
    "                sep = (Xg[i] ,newX[i] )\n",
    "                archive.append(sep)\n",
    "\n",
    "        Xg = newX\n",
    "\n",
    "\n",
    "        print(len(archive))\n",
    "\n",
    "        for x1, x2 in archive:\n",
    "            ANN,  history = train_ANN(ANN,  x1.reshape(1,-1),\n",
    "                                                 x2.reshape(1,-1))\n",
    "\n",
    "            all_losses.append( history.history['loss'][0] )\n",
    "            all_accuracy.append( history.history['accuracy'][0] )\n",
    "\n",
    "            \n",
    "\n",
    "        end_time = time.time()\n",
    "        time_delay = (end_time - start_time) * 1000 \n",
    "        time_to_run.append(time_delay)\n",
    "        \n",
    "    loss = np.sum(all_losses) / len(archive)\n",
    "    \n",
    "    return archive, loss, all_accuracy , np.array(time_to_run)\n",
    "     "
   ]
  },
  {
   "cell_type": "code",
   "execution_count": 368,
   "metadata": {},
   "outputs": [
    {
     "name": "stdout",
     "output_type": "stream",
     "text": [
      " gen: 1| 8\n",
      " gen: 2| 8\n",
      " gen: 3| 17\n",
      " gen: 4| 20\n",
      " gen: 5| 23\n"
     ]
    }
   ],
   "source": [
    "PROBLEM =  'dtlz7'\n",
    "ARCHIVE_SIZE = 100\n",
    "LP = 0.5\n",
    "N_GENERATORS = 5\n",
    "FIRST_GEN_SIZE = 100\n",
    "CROSS_OVER_RATE = .5\n",
    "MUTATION_RATE = .9\n",
    "N_OBJ = 10\n",
    "N_VAR = 10\n",
    "ANN_LR = .05\n",
    "ANN_AC_FUNCTION = 'sigmoid'\n",
    "\n",
    "Archive , loss ,  model_accuracy , timing = main(\n",
    "    PROBLEM, # \n",
    "    archive_size = ARCHIVE_SIZE, # Archive size\n",
    "    lp = LP,\n",
    "    n_generations = N_GENERATORS, # number of generations\n",
    "    first_gen_size = FIRST_GEN_SIZE, # number of generations \n",
    "    cross_over_rate = CROSS_OVER_RATE, # cross over rate\n",
    "    mutation_rate = MUTATION_RATE, # mutation rate \n",
    "    n_obj= N_OBJ, # number of observations\n",
    "    n_var= N_VAR, # number of variables\n",
    "    ANN_learning_rate = ANN_LR, # learning rate\n",
    "    ANN_Activatvation_function= ANN_AC_FUNCTION, # activation function for ANN\n",
    "\n",
    ")"
   ]
  },
  {
   "cell_type": "code",
   "execution_count": 369,
   "metadata": {},
   "outputs": [
    {
     "data": {
      "text/plain": [
       "(0.16060956701909637,\n",
       " [0.0,\n",
       "  1.0,\n",
       "  0.0,\n",
       "  1.0,\n",
       "  0.0,\n",
       "  0.0,\n",
       "  0.0,\n",
       "  0.0,\n",
       "  0.0,\n",
       "  1.0,\n",
       "  0.0,\n",
       "  1.0,\n",
       "  0.0,\n",
       "  0.0,\n",
       "  0.0,\n",
       "  0.0,\n",
       "  1.0,\n",
       "  0.0,\n",
       "  0.0,\n",
       "  0.0,\n",
       "  1.0,\n",
       "  0.0,\n",
       "  0.0,\n",
       "  0.0,\n",
       "  0.0,\n",
       "  0.0,\n",
       "  0.0,\n",
       "  1.0,\n",
       "  1.0,\n",
       "  0.0,\n",
       "  0.0,\n",
       "  1.0,\n",
       "  1.0,\n",
       "  1.0,\n",
       "  0.0,\n",
       "  1.0,\n",
       "  1.0,\n",
       "  0.0,\n",
       "  0.0,\n",
       "  0.0,\n",
       "  0.0,\n",
       "  0.0,\n",
       "  0.0,\n",
       "  0.0,\n",
       "  0.0,\n",
       "  0.0,\n",
       "  0.0,\n",
       "  0.0,\n",
       "  0.0,\n",
       "  0.0,\n",
       "  1.0,\n",
       "  1.0,\n",
       "  1.0,\n",
       "  1.0,\n",
       "  1.0,\n",
       "  1.0,\n",
       "  1.0,\n",
       "  1.0,\n",
       "  0.0,\n",
       "  1.0,\n",
       "  0.0,\n",
       "  0.0,\n",
       "  0.0,\n",
       "  0.0,\n",
       "  1.0,\n",
       "  0.0,\n",
       "  0.0,\n",
       "  0.0,\n",
       "  0.0,\n",
       "  0.0,\n",
       "  1.0,\n",
       "  1.0,\n",
       "  1.0,\n",
       "  1.0,\n",
       "  1.0,\n",
       "  1.0])"
      ]
     },
     "execution_count": 369,
     "metadata": {},
     "output_type": "execute_result"
    }
   ],
   "source": [
    "loss, model_accuracy"
   ]
  },
  {
   "cell_type": "code",
   "execution_count": 370,
   "metadata": {},
   "outputs": [
    {
     "name": "stdout",
     "output_type": "stream",
     "text": [
      "[0.0, 1.0, 0.0, 1.0, 0.0, 0.0, 0.0, 0.0, 0.0, 1.0, 0.0, 1.0, 0.0, 0.0, 0.0, 0.0, 1.0, 0.0, 0.0, 0.0, 1.0, 0.0, 0.0, 0.0, 0.0, 0.0, 0.0, 1.0, 1.0, 0.0, 0.0, 1.0, 1.0, 1.0, 0.0, 1.0, 1.0, 0.0, 0.0, 0.0, 0.0, 0.0, 0.0, 0.0, 0.0, 0.0, 0.0, 0.0, 0.0, 0.0, 1.0, 1.0, 1.0, 1.0, 1.0, 1.0, 1.0, 1.0, 0.0, 1.0, 0.0, 0.0, 0.0, 0.0, 1.0, 0.0, 0.0, 0.0, 0.0, 0.0, 1.0, 1.0, 1.0, 1.0, 1.0, 1.0]\n"
     ]
    }
   ],
   "source": [
    "print(model_accuracy)"
   ]
  },
  {
   "cell_type": "code",
   "execution_count": 371,
   "metadata": {},
   "outputs": [
    {
     "name": "stdout",
     "output_type": "stream",
     "text": [
      "NSGII\n",
      " gen: 1| 49\n",
      " gen: 2| 49\n",
      " gen: 3| 49\n",
      " gen: 4| 49\n",
      " gen: 5| 49\n",
      " gen: 6| 49\n",
      " gen: 7| 49\n",
      " gen: 8| 49\n",
      " gen: 9| 49\n",
      " gen: 10| 49\n",
      "\n",
      "L-NSGII\n",
      " gen: 1| 41\n",
      " gen: 2| 41\n",
      " gen: 3| 51\n",
      " gen: 4| 51\n",
      " gen: 5| 51\n",
      " gen: 6| 51\n",
      " gen: 7| 51\n",
      " gen: 8| 51\n",
      " gen: 9| 51\n",
      " gen: 10| 51\n"
     ]
    }
   ],
   "source": [
    "# only Traditional (NSGII)\n",
    "print(\"NSGII\")\n",
    "\n",
    "Archive_NSG2  ,  loss_NSG2  , NSG2_accuracy,  timing_NSG2 = main(\n",
    "                Problem = \"dtlz3\",\n",
    "                archive_size = 100,\n",
    "                lp = -1., # to make sure just PSO is running\n",
    "                n_generations = 10 , # number of generations\n",
    "                first_gen_size = 100, # number of generations \n",
    "                cross_over_rate = .5, # cross over rate\n",
    "                mutation_rate = .9, # mutation rate \n",
    "                n_obj= 10, # number of observations\n",
    "                n_var= 100, # number of variables\n",
    "                ANN_learning_rate = .1, # learning rate\n",
    "                ANN_Activatvation_function= \"sigmoid\", # activation function for ANN\n",
    ")\n",
    "\n",
    "print( \"\\nL-NSGII\")\n",
    "# both algorithm with posibilty of lp (L-PSO)\n",
    "\n",
    "Archivee_L_NSG2 ,  loss_L_NSG2 , L_NSG2_accuracy , timing_L_NSG2 = main(\n",
    "    Problem = \"dtlz3\",\n",
    "    archive_size = 100,\n",
    "    lp = .5,\n",
    "    n_generations = 10, # number of generations\n",
    "    first_gen_size = 100, # number of generations \n",
    "    cross_over_rate = .5, # cross over rate\n",
    "    mutation_rate = .9, # mutation rate \n",
    "    n_obj= 10, # number of observations\n",
    "    n_var= 100, # number of variables\n",
    "    ANN_learning_rate = .1, # learning rate\n",
    "    ANN_Activatvation_function= \"sigmoid\", # activation function for ANN\n",
    ")"
   ]
  },
  {
   "cell_type": "code",
   "execution_count": 372,
   "metadata": {},
   "outputs": [
    {
     "name": "stdout",
     "output_type": "stream",
     "text": [
      "ETR: [ 0.9518344   1.43326485 -1.83262188  2.03494249 -8.66699916 -7.57875166\n",
      "  6.77596146  1.47892335  1.68400331 -6.63009766]\n"
     ]
    }
   ],
   "source": [
    "def ERR(EA, EB):\n",
    "    \"\"\"\n",
    "    Calculate the Error Rate Ratio (ERR) between two values A and B.\n",
    "    If B is greater than A, returns (B - A) / B * 100%.\n",
    "    Otherwise, returns 0.\n",
    "    \"\"\"\n",
    "    if EB > EA:\n",
    "        return (EB - EA) / EB * 100\n",
    "    else:\n",
    "        return 0\n",
    "\n",
    "def TIR(TA, TB):\n",
    "    \"\"\"\n",
    "    Calculate the Time Interval Ratio (TIR) between two time values A and B.\n",
    "    Returns (A - B) / B * 100%.\n",
    "    \"\"\"\n",
    "    return (TA - TB) / TB * 100\n",
    "\n",
    "def ETR(EA, EB, TA, TB):\n",
    "    \"\"\"\n",
    "    Calculate the Error-to-Time Ratio (ETR) using ERR and TIR.\n",
    "    Returns ERR(A, B) / TIR(A, B).\n",
    "    \"\"\"\n",
    "    return ERR(EA, EB) / TIR(TA, TB)\n",
    "\n",
    "# Example usage:\n",
    "EA = loss_L_NSG2\n",
    "EB = loss_NSG2\n",
    "TA = timing_NSG2\n",
    "TB = timing_L_NSG2\n",
    "\n",
    "etr_result = ETR(EA, EB, TA , TB)\n",
    "print(f\"ETR: {etr_result}\")\n"
   ]
  },
  {
   "cell_type": "code",
   "execution_count": 373,
   "metadata": {},
   "outputs": [
    {
     "name": "stdout",
     "output_type": "stream",
     "text": [
      "error_L_NSG2 ,  2.6632084921\n",
      "error_NSG2 ,    3.2821577775\n",
      "Diffrence : -0.6189492854232692\n"
     ]
    }
   ],
   "source": [
    "print(f\"error_L_NSG2 , {EA : .10f}\")\n",
    "print(f\"error_NSG2 ,   {EB : .10f}\")\n",
    "print(f\"Diffrence : {EA - EB}\")\n",
    "# print(f\"time_NSG2 , {TA}\")\n",
    "# print(f\"time_L_NSG2 , {TB}\")\n"
   ]
  },
  {
   "cell_type": "code",
   "execution_count": 374,
   "metadata": {},
   "outputs": [],
   "source": [
    "a = NSG2_accuracy\n",
    "b = L_NSG2_accuracy\n"
   ]
  },
  {
   "cell_type": "code",
   "execution_count": 375,
   "metadata": {},
   "outputs": [
    {
     "data": {
      "image/png": "[encoded data removed]",
      "text/plain": [
       "<Figure size 640x480 with 1 Axes>"
      ]
     },
     "metadata": {},
     "output_type": "display_data"
    }
   ],
   "source": [
    "sns.lineplot(etr_result, markers = True)\n",
    "\n",
    "plt.title(f\"Time per Error\"  , fontdict = {'font':  'Times new Roman'})\n",
    "plt.xlabel(f\"generation\" , fontdict = {'font':  'Times new Roman'})\n",
    "plt.ylabel(f\"ETR(ms)\" , fontdict = {'font' : 'Times new Roman'})\n",
    "plt.savefig(\"ETR.png\")\n",
    "plt.show()"
   ]
  },
  {
   "cell_type": "code",
   "execution_count": 376,
   "metadata": {},
   "outputs": [
    {
     "name": "stdout",
     "output_type": "stream",
     "text": [
      "[0.0, 0.0, 0.0, 0.0, 0.0, 0.0, 0.0, 0.0, 0.0, 0.0, 0.0, 0.0, 0.0, 0.0, 0.0, 0.0, 0.0, 0.0, 0.0, 0.0, 0.0, 0.0, 0.0, 0.0, 0.0, 0.0, 0.0, 0.0, 0.0, 0.0, 0.0, 0.0, 0.0, 0.0, 0.0, 0.0, 0.0, 0.0, 0.0, 0.0, 0.0, 0.0, 0.0, 0.0, 0.0, 0.0, 0.0, 0.0, 0.0, 0.0, 0.0, 0.0, 0.0, 0.0, 0.0, 0.0, 0.0, 0.0, 0.0, 0.0, 0.0, 0.0, 0.0, 0.0, 0.0, 0.0, 0.0, 0.0, 0.0, 0.0, 0.0, 0.0, 0.0, 0.0, 0.0, 0.0, 0.0, 0.0, 0.0, 0.0, 0.0, 0.0, 0.0, 0.0, 0.0, 0.0, 0.0, 0.0, 0.0, 0.0, 0.0, 0.0, 0.0, 0.0, 0.0, 0.0, 0.0, 0.0, 0.0, 0.0, 0.0, 0.0, 0.0, 0.0, 0.0, 0.0, 0.0, 0.0, 0.0, 0.0, 0.0, 0.0, 0.0, 0.0, 0.0, 0.0, 0.0, 0.0, 0.0, 0.0, 0.0, 0.0, 0.0, 0.0, 0.0, 0.0, 0.0, 0.0, 0.0, 0.0, 0.0, 0.0, 0.0, 0.0, 0.0, 0.0, 0.0, 0.0, 0.0, 0.0, 0.0, 0.0, 0.0, 0.0, 0.0, 0.0, 0.0, 0.0, 0.0, 0.0, 0.0, 0.0, 0.0, 0.0, 0.0, 0.0, 0.0, 0.0, 0.0, 0.0, 0.0, 0.0, 0.0, 0.0, 0.0, 0.0, 0.0, 0.0, 0.0, 0.0, 0.0, 0.0, 0.0, 0.0, 0.0, 0.0, 0.0, 0.0, 0.0, 0.0, 0.0, 0.0, 0.0, 0.0, 0.0, 0.0, 0.0, 0.0, 0.0, 0.0, 0.0, 0.0, 0.0, 0.0, 0.0, 0.0, 0.0, 0.0, 0.0, 0.0, 0.0, 0.0, 0.0, 0.0, 0.0, 0.0, 0.0, 0.0, 0.0, 0.0, 0.0, 0.0, 0.0, 0.0, 0.0, 0.0, 0.0, 0.0, 0.0, 0.0, 0.0, 0.0, 0.0, 0.0, 0.0, 0.0, 0.0, 0.0, 0.0, 0.0, 0.0, 0.0, 0.0, 0.0, 0.0, 0.0, 0.0, 0.0, 0.0, 0.0, 0.0, 0.0, 0.0, 0.0, 0.0, 0.0, 0.0, 0.0, 0.0, 0.0, 0.0, 0.0, 0.0, 0.0, 0.0, 0.0, 0.0, 0.0, 0.0, 0.0, 0.0, 0.0, 0.0, 0.0, 0.0, 0.0, 0.0, 0.0, 0.0, 0.0, 0.0, 0.0, 0.0, 0.0, 0.0, 0.0, 0.0, 0.0, 0.0, 0.0, 0.0, 0.0, 0.0, 0.0, 0.0, 0.0, 0.0, 0.0, 0.0, 0.0, 0.0, 0.0, 0.0, 0.0, 0.0, 0.0, 0.0, 0.0, 0.0, 0.0, 0.0, 0.0, 0.0, 0.0, 0.0, 0.0, 0.0, 0.0, 0.0, 0.0, 0.0, 0.0, 0.0, 0.0, 0.0, 0.0, 0.0, 0.0, 0.0, 0.0, 0.0, 0.0, 0.0, 0.0, 0.0, 0.0, 0.0, 0.0, 0.0, 0.0, 0.0, 0.0, 0.0, 0.0, 0.0, 0.0, 0.0, 0.0, 0.0, 0.0, 0.0, 0.0, 0.0, 0.0, 0.0, 0.0, 0.0, 0.0, 0.0, 0.0, 0.0, 0.0, 0.0, 0.0, 0.0, 0.0, 0.0, 0.0, 0.0, 0.0, 0.0, 0.0, 0.0, 0.0, 0.0, 0.0, 0.0, 0.0, 0.0, 0.0, 0.0, 0.0, 0.0, 0.0, 0.0, 0.0, 0.0, 0.0, 0.0, 0.0, 0.0, 0.0, 0.0, 0.0, 0.0, 0.0, 0.0, 0.0, 0.0, 0.0, 0.0, 0.0, 0.0, 0.0, 0.0, 0.0, 0.0, 0.0, 0.0, 0.0, 0.0, 0.0, 0.0, 0.0, 0.0, 0.0, 0.0, 0.0, 0.0, 0.0, 0.0, 0.0, 0.0, 0.0, 0.0, 0.0, 0.0, 0.0, 0.0, 0.0, 0.0, 0.0, 0.0, 0.0, 0.0, 0.0, 0.0, 0.0, 0.0, 0.0, 0.0, 0.0, 0.0, 0.0, 0.0, 0.0, 0.0, 0.0, 0.0, 0.0, 0.0, 0.0, 0.0, 0.0, 0.0, 0.0, 0.0, 0.0, 0.0, 0.0, 0.0, 0.0, 0.0, 0.0, 0.0, 0.0, 0.0, 0.0, 0.0, 0.0, 0.0, 0.0, 0.0, 0.0, 0.0, 0.0, 0.0, 0.0, 0.0, 0.0, 0.0, 0.0, 0.0, 0.0, 0.0, 0.0, 0.0, 0.0, 0.0, 0.0, 0.0, 0.0, 0.0, 0.0, 0.0, 0.0, 0.0, 0.0, 0.0, 0.0]\n",
      "[0.0, 0.0, 0.0, 0.0, 0.0, 0.0, 0.0, 0.0, 0.0, 0.0, 0.0, 0.0, 0.0, 0.0, 0.0, 0.0, 0.0, 0.0, 0.0, 0.0, 0.0, 0.0, 0.0, 0.0, 0.0, 0.0, 0.0, 0.0, 0.0, 0.0, 0.0, 0.0, 0.0, 0.0, 0.0, 0.0, 0.0, 0.0, 0.0, 0.0, 0.0, 0.0, 0.0, 0.0, 0.0, 0.0, 0.0, 0.0, 0.0, 0.0, 0.0, 0.0, 0.0, 0.0, 0.0, 0.0, 0.0, 0.0, 0.0, 0.0, 0.0, 0.0, 0.0, 0.0, 0.0, 0.0, 0.0, 0.0, 0.0, 0.0, 0.0, 0.0, 0.0, 0.0, 0.0, 0.0, 0.0, 0.0, 0.0, 0.0, 0.0, 0.0, 0.0, 0.0, 0.0, 0.0, 0.0, 0.0, 0.0, 0.0, 0.0, 0.0, 0.0, 0.0, 0.0, 0.0, 0.0, 0.0, 0.0, 0.0, 0.0, 0.0, 0.0, 0.0, 0.0, 0.0, 0.0, 0.0, 0.0, 0.0, 0.0, 0.0, 0.0, 0.0, 0.0, 0.0, 0.0, 0.0, 0.0, 0.0, 0.0, 0.0, 0.0, 1.0, 1.0, 1.0, 1.0, 1.0, 1.0, 1.0, 1.0, 1.0, 1.0, 0.0, 0.0, 0.0, 0.0, 0.0, 0.0, 0.0, 0.0, 0.0, 0.0, 0.0, 0.0, 0.0, 0.0, 0.0, 0.0, 0.0, 0.0, 0.0, 0.0, 0.0, 0.0, 0.0, 0.0, 0.0, 0.0, 0.0, 0.0, 0.0, 0.0, 0.0, 0.0, 0.0, 0.0, 0.0, 0.0, 0.0, 0.0, 0.0, 0.0, 0.0, 1.0, 1.0, 1.0, 1.0, 1.0, 1.0, 1.0, 1.0, 1.0, 1.0, 0.0, 0.0, 0.0, 0.0, 0.0, 0.0, 0.0, 0.0, 0.0, 0.0, 0.0, 0.0, 0.0, 0.0, 0.0, 0.0, 0.0, 0.0, 0.0, 0.0, 0.0, 0.0, 0.0, 0.0, 0.0, 0.0, 0.0, 0.0, 0.0, 0.0, 0.0, 0.0, 0.0, 0.0, 0.0, 0.0, 0.0, 0.0, 0.0, 0.0, 0.0, 1.0, 1.0, 1.0, 1.0, 1.0, 1.0, 1.0, 1.0, 1.0, 1.0, 0.0, 0.0, 0.0, 0.0, 0.0, 0.0, 0.0, 0.0, 0.0, 0.0, 0.0, 0.0, 0.0, 0.0, 0.0, 0.0, 0.0, 0.0, 0.0, 0.0, 0.0, 0.0, 0.0, 0.0, 0.0, 0.0, 0.0, 0.0, 0.0, 0.0, 0.0, 0.0, 0.0, 0.0, 0.0, 0.0, 0.0, 0.0, 0.0, 0.0, 0.0, 1.0, 1.0, 1.0, 1.0, 1.0, 1.0, 1.0, 1.0, 1.0, 1.0, 0.0, 0.0, 0.0, 0.0, 0.0, 0.0, 0.0, 0.0, 0.0, 0.0, 0.0, 0.0, 0.0, 0.0, 0.0, 0.0, 0.0, 0.0, 0.0, 0.0, 0.0, 0.0, 0.0, 0.0, 0.0, 0.0, 0.0, 0.0, 0.0, 0.0, 0.0, 0.0, 0.0, 0.0, 0.0, 0.0, 0.0, 0.0, 0.0, 0.0, 0.0, 1.0, 1.0, 1.0, 1.0, 1.0, 1.0, 1.0, 1.0, 1.0, 1.0, 0.0, 0.0, 0.0, 0.0, 0.0, 0.0, 0.0, 0.0, 0.0, 0.0, 0.0, 0.0, 0.0, 0.0, 0.0, 0.0, 0.0, 0.0, 0.0, 0.0, 0.0, 0.0, 0.0, 0.0, 0.0, 0.0, 0.0, 0.0, 0.0, 0.0, 0.0, 0.0, 0.0, 0.0, 0.0, 0.0, 0.0, 0.0, 0.0, 0.0, 0.0, 1.0, 1.0, 1.0, 1.0, 1.0, 1.0, 1.0, 1.0, 1.0, 1.0, 0.0, 0.0, 0.0, 0.0, 0.0, 0.0, 0.0, 0.0, 0.0, 0.0, 0.0, 0.0, 0.0, 0.0, 0.0, 0.0, 0.0, 0.0, 0.0, 0.0, 0.0, 0.0, 0.0, 0.0, 0.0, 0.0, 0.0, 0.0, 0.0, 0.0, 0.0, 0.0, 0.0, 0.0, 0.0, 0.0, 0.0, 0.0, 0.0, 0.0, 0.0, 1.0, 1.0, 1.0, 1.0, 1.0, 1.0, 1.0, 1.0, 1.0, 1.0, 0.0, 0.0, 0.0, 0.0, 0.0, 0.0, 0.0, 0.0, 0.0, 0.0, 0.0, 0.0, 0.0, 0.0, 0.0, 0.0, 0.0, 0.0, 0.0, 0.0, 0.0, 0.0, 0.0, 0.0, 0.0, 0.0, 0.0, 0.0, 0.0, 0.0, 0.0, 0.0, 0.0, 0.0, 0.0, 0.0, 0.0, 0.0, 0.0, 0.0, 0.0, 1.0, 1.0, 1.0, 1.0, 1.0, 1.0, 1.0, 1.0, 1.0, 1.0]\n"
     ]
    }
   ],
   "source": [
    "print(a)\n",
    "print(b)"
   ]
  },
  {
   "cell_type": "code",
   "execution_count": 377,
   "metadata": {},
   "outputs": [
    {
     "data": {
      "image/png": "[encoded data removed]",
      "text/plain": [
       "<Figure size 640x480 with 1 Axes>"
      ]
     },
     "metadata": {},
     "output_type": "display_data"
    }
   ],
   "source": [
    "sns.lineplot(pd.DataFrame({\n",
    "                            \"time NSGII\" : TA , \n",
    "                           \"time L-NSGII\" : TB\n",
    "                           }, index = list(range(1, len(TA) +1))) , markers = True)\n",
    "\n",
    "plt.title(f\"Time evaluation\"  , fontdict = {'font':  'Times new Roman'})\n",
    "plt.xlabel(f\"generation\" , fontdict = {'font':  'Times new Roman'})\n",
    "plt.ylabel(f\"Time(ms)\" , fontdict = {'font' : 'Times new Roman'})\n",
    "plt.savefig(\"Time evaluation-NSGII.png\")\n",
    "\n",
    "plt.show()\n",
    "\n"
   ]
  },
  {
   "cell_type": "code",
   "execution_count": 378,
   "metadata": {},
   "outputs": [
    {
     "name": "stdout",
     "output_type": "stream",
     "text": [
      "One-sided p-value: 0.999999999754701\n",
      "Two-sided p-value: 4.905980210396535e-10\n"
     ]
    }
   ],
   "source": [
    "import scipy.stats as stats\n",
    "\n",
    "# One-sided test (alternative hypothesis: sample1 > sample2)\n",
    "statistic, pvalue_greater = stats.wilcoxon(\n",
    "                                        a,\n",
    "                                        b,\n",
    "                                    alternative='greater',\n",
    "                                    zero_method = \"zsplit\")\n",
    "print(\"One-sided p-value:\", pvalue_greater)\n",
    "\n",
    "# Two-sided test (alternative hypothesis: not equal medians)\n",
    "statistic, pvalue_two_sided = stats.wilcoxon(a, b, zero_method = \"zsplit\" , \n",
    "                                   alternative='two-sided')\n",
    "print(\"Two-sided p-value:\", pvalue_two_sided)"
   ]
  },
  {
   "cell_type": "code",
   "execution_count": 379,
   "metadata": {},
   "outputs": [
    {
     "name": "stdout",
     "output_type": "stream",
     "text": [
      "\n",
      "kstat   => 87.0222222222216 \n",
      "p value => 1.0730865543951049e-20\n",
      "\n"
     ]
    }
   ],
   "source": [
    "# Perform Kruskal-Wallis test\n",
    "import scipy.stats as stats\n",
    "\n",
    "k_stat, p = stats.kruskal(a, b\n",
    "                          )\n",
    "\n",
    "print(f\"\"\"\n",
    "kstat   => {k_stat} \n",
    "p value => {p }\n",
    "\"\"\")"
   ]
  },
  {
   "cell_type": "code",
   "execution_count": 381,
   "metadata": {},
   "outputs": [
    {
     "name": "stdout",
     "output_type": "stream",
     "text": [
      "1.0\n"
     ]
    }
   ],
   "source": [
    "# Only proceed to Cohon test if Kruskal-Wallis test is significant \n",
    "if p < 0.05:\n",
    "    # Extract sum of ranks of each group\n",
    "    n1 = len(a)\n",
    "    sum_rank1 = stats.rankdata(a).sum()\n",
    "    \n",
    "    n2 = len(b)\n",
    "    sum_rank2 = stats.rankdata(b).sum()\n",
    "\n",
    "    # Compare sum of ranks between pairs using z statistic \n",
    "    z_12 = (sum_rank1 - sum_rank2)/np.sqrt(n1*n2*(n1+n2+1)/12)\n",
    "\n",
    "    # Compare to critical value\n",
    "    crit = 1.96\n",
    "    p_12 = 2 * (1 - stats.norm.cdf(abs(z_12))) \n",
    "\n",
    "    # Print significant results\n",
    "    print(p_12, \n",
    "        #   p_13, p_23\n",
    "          )"
   ]
  }
 ],
 "metadata": {
  "kernelspec": {
   "display_name": "Python 3",
   "language": "python",
   "name": "python3"
  },
  "language_info": {
   "codemirror_mode": {
    "name": "ipython",
    "version": 3
   },
   "file_extension": ".py",
   "mimetype": "text/x-python",
   "name": "python",
   "nbconvert_exporter": "python",
   "pygments_lexer": "ipython3",
   "version": "3.11.0"
  }
 },
 "nbformat": 4,
 "nbformat_minor": 2
}
